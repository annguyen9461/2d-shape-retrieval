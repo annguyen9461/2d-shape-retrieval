{
  "nbformat": 4,
  "nbformat_minor": 0,
  "metadata": {
    "colab": {
      "name": "mag_conv_autoencoder.ipynb",
      "provenance": [],
      "collapsed_sections": []
    },
    "kernelspec": {
      "display_name": "Python 3",
      "name": "python3"
    }
  },
  "cells": [
    {
      "cell_type": "code",
      "metadata": {
        "id": "MQ0zXwNVi_mw"
      },
      "source": [
        "__author__ = 'Vaibhav Kumar'\n",
        "\n",
        "from __future__ import print_function, division\n",
        "import os\n",
        "import pandas as pd\n",
        "from skimage import io, transform\n",
        "import torch\n",
        "from torch.utils.data import Dataset, DataLoader\n",
        "import torchvision\n",
        "from torchvision import transforms, utils\n",
        "import cv2\n",
        "\n",
        "from PIL import Image\n",
        "from torch.nn.functional import interpolate\n",
        "\n",
        "import numpy as np\n",
        "from numpy import random\n",
        "\n",
        "import torch.nn as nn\n",
        "import torch.nn.functional as F\n",
        "import torch.optim as optim\n",
        "import matplotlib.pyplot as plt\n",
        "from torch.utils.data.sampler import SubsetRandomSampler\n",
        "from torch.utils.data import DataLoader\n",
        "from torchvision import datasets, transforms\n",
        "\n",
        "import matplotlib.pyplot as plt\n",
        "%matplotlib inline\n",
        "import torch.nn as nn\n",
        "import torch.nn.functional as F\n",
        "\n",
        "plt.ion()"
      ],
      "execution_count": 1,
      "outputs": []
    },
    {
      "cell_type": "markdown",
      "metadata": {
        "id": "Ui1eXHmHD18T"
      },
      "source": [
        "https://analyticsindiamag.com/how-to-implement-convolutional-autoencoder-in-pytorch-with-cuda/ \n",
        "https://pytorch.org/tutorials/recipes/recipes/custom_dataset_transforms_loader.html"
      ]
    },
    {
      "cell_type": "code",
      "metadata": {
        "id": "2gNKiw5_W8gI"
      },
      "source": [
        "# Dataset Class\n",
        "class PNGDataset(Dataset):\n",
        "    \"\"\"png dataset\"\"\"\n",
        "\n",
        "    def __init__(self, root_dir, transform=None):\n",
        "        \"\"\"\n",
        "        Args:\n",
        "            root_dir (string): Directory with all the images.\n",
        "            transform (callable, optional): Optional transform to be applied\n",
        "                on a sample.\n",
        "        \"\"\"\n",
        "        self.root_dir = root_dir\n",
        "        self.transform = transform\n",
        "\n",
        "    def __len__(self):\n",
        "      list = os.listdir(self.root_dir)\n",
        "      count=len(list)\n",
        "      print(count)\n",
        "      return count  \n",
        "\n",
        "    def __getitem__(self, idx):\n",
        "        if torch.is_tensor(idx):\n",
        "            idx = idx.tolist()\n",
        "\n",
        "        # list of all files in directory\n",
        "        dir = os.listdir(self.root_dir)\n",
        "        # for item in dir:\n",
        "        #   print(item)\n",
        "        img_name = os.path.join(self.root_dir,dir[idx])\n",
        "        image = io.imread(img_name)            \n",
        "        sample = {'image': image}\n",
        "\n",
        "        if self.transform:\n",
        "            sample = self.transform(sample)\n",
        "\n",
        "        return sample\n",
        "\n",
        "    # def __getitem__(self, idx):\n",
        "    #     if torch.is_tensor(idx):\n",
        "    #         idx = idx.tolist()\n",
        "\n",
        "    #     img_name = os.path.join(self.root_dir,str(idx)+\".png\")\n",
        "    #     image = io.imread(img_name)            \n",
        "    #     sample = {'image': image}\n",
        "\n",
        "    #     if self.transform:\n",
        "    #         sample = self.transform(sample)\n",
        "\n",
        "    #     return sample"
      ],
      "execution_count": 29,
      "outputs": []
    },
    {
      "cell_type": "code",
      "metadata": {
        "id": "1gR1px5itNLW"
      },
      "source": [
        "def expand2square(pil_img, background_color):\n",
        "  width, height = pil_img.size\n",
        "  if width == height:\n",
        "      return pil_img\n",
        "  elif width > height:\n",
        "      result = Image.new(pil_img.mode, (width, width), background_color)\n",
        "      result.paste(pil_img, (0, (width - height) // 2))\n",
        "      return result\n",
        "  else:\n",
        "      result = Image.new(pil_img.mode, (height, height), background_color)\n",
        "      result.paste(pil_img, ((height - width) // 2, 0))\n",
        "      return result"
      ],
      "execution_count": 21,
      "outputs": []
    },
    {
      "cell_type": "code",
      "metadata": {
        "id": "hYs53_BJLFvs"
      },
      "source": [
        "def check_dir_exist(path):\n",
        "  if os.path.isdir(path):\n",
        "    print(\"Exists\")\n",
        "  else:\n",
        "    print(\"Doesn't exists\")\n",
        "    os.mkdir(path)"
      ],
      "execution_count": 22,
      "outputs": []
    },
    {
      "cell_type": "markdown",
      "metadata": {
        "id": "Q56YKvN5qfRW"
      },
      "source": [
        "https://stackoverflow.com/questions/12201577/how-can-i-convert-an-rgb-image-into-grayscale-in-python \n",
        "https://stackoverflow.com/questions/3211595/renaming-files-in-a-folder-to-sequential-numbers\n",
        "https://stackoverflow.com/questions/82831/how-do-i-check-whether-a-file-exists-without-exceptions "
      ]
    },
    {
      "cell_type": "code",
      "metadata": {
        "id": "IvEA8RO5cSKf"
      },
      "source": [
        "# process 2D characters first then frontview of rignet characters (all png files)\n",
        "# the naming convention for them is different\n",
        "def process_png_dataset(processing_obj, dataset, rootpath, newpath):\n",
        "  iterations = 0\n",
        "  while (iterations <= len(dataset)-1):\n",
        "    if (processing_obj != True):\n",
        "      for i in range (len(dataset)-1):\n",
        "          fname = rootpath+\"/\"+str(i)+'.png'\n",
        "          if (os.path.isfile(fname)==True):\n",
        "            im = Image.open(fname)\n",
        "            # Padding \n",
        "            im_new = expand2square(im, (255, 255, 255))\n",
        "            # Convert to grayscale\n",
        "            im_new = im_new.convert('LA')\n",
        "            im_new.save(newpath+str(i)+'.png', quality=95)\n",
        "            iterations+=1\n",
        "          else:\n",
        "            processing_obj = True\n",
        "            break\n",
        "    else:        \n",
        "        for i in range (len(dataset)-1):\n",
        "          fname = rootpath+\"/obj\"+str(i)+'.png'\n",
        "          if (os.path.isfile(fname)==True):\n",
        "            im = Image.open(fname)\n",
        "            # Padding \n",
        "            im_new = expand2square(im, (0, 0, 0))\n",
        "            # Convert to grayscale\n",
        "            im_new = im_new.convert('LA')\n",
        "            # CHANGE THE NAMING HERE!!!!!!!!!!!\n",
        "            im_new.save(newpath+\"/obj\"+str(i)+'.png', quality=95)\n",
        "            iterations+=1\n",
        "          else:\n",
        "            break"
      ],
      "execution_count": 8,
      "outputs": []
    },
    {
      "cell_type": "code",
      "metadata": {
        "id": "xgJNXxyBLwcn"
      },
      "source": [
        "def process_png_dataset_test(dataset,rootpath,newpath):\n",
        "  for i in range (len(dataset)-1):\n",
        "    im = Image.open(rootpath+str(i)+'.png')\n",
        "    # Padding \n",
        "    im_new = expand2square(im, (255, 255, 255))\n",
        "    # Convert to grayscale\n",
        "    im_new = im_new.convert('LA')\n",
        "    im_new.save(newpath+str(i)+'.png', quality=95)\n",
        "\n",
        "# def process_obj_dataset(dataset,rootpath,newpath):\n",
        "#   for i in range (len(dataset)-1):\n",
        "#     im = Image.open(rootpath+\"/obj\"+str(i)+'.png')\n",
        "#     # Padding \n",
        "#     im_new = expand2square(im, (0, 0, 0))\n",
        "#     # Convert to grayscale\n",
        "#     im_new = im_new.convert('LA')\n",
        "#     im_new.save(newpath+str(i)+'.png', quality=95)"
      ],
      "execution_count": 9,
      "outputs": []
    },
    {
      "cell_type": "code",
      "metadata": {
        "id": "ZgYtbFldYw3k"
      },
      "source": [
        "# Initialize datasets\n",
        "# png_dataset = PNGDataset(root_dir='/content/drive/MyDrive/png_files')\n",
        "png_dataset = PNGDataset(root_dir='/content/drive/MyDrive/2D_and_rignet')\n",
        "png_dataset_test = PNGDataset(root_dir='/content/drive/MyDrive/png_files_test')"
      ],
      "execution_count": 23,
      "outputs": []
    },
    {
      "cell_type": "code",
      "metadata": {
        "colab": {
          "base_uri": "https://localhost:8080/"
        },
        "id": "jaUhjP-XZPlY",
        "outputId": "61cb139b-6ad5-40f9-c878-2d2139880fad"
      },
      "source": [
        "check_dir_exist('/content/png_files_processed/')\n",
        "check_dir_exist('/content/png_files_test_processed/')\n",
        "\n",
        "# process_png_dataset(png_dataset,'/content/drive/MyDrive/png_files/','/png_files_processed/')\n",
        "process_png_dataset(False, png_dataset,'/content/drive/MyDrive/2D_and_rignet','/content/png_files_processed/')\n",
        "process_png_dataset_test(png_dataset_test,'/content/drive/MyDrive/png_files_test/','/content/png_files_test_processed/')"
      ],
      "execution_count": 30,
      "outputs": [
        {
          "output_type": "stream",
          "text": [
            "Exists\n",
            "Exists\n",
            "2818\n",
            "2818\n",
            "2818\n",
            "2818\n",
            "2818\n",
            "2818\n",
            "2818\n",
            "53\n"
          ],
          "name": "stdout"
        }
      ]
    },
    {
      "cell_type": "markdown",
      "metadata": {
        "id": "c17X61o6JrLd"
      },
      "source": [
        "https://pytorch.org/docs/stable/nn.functional.html?highlight=interpolate#torch.nn.functional.interpolate\n",
        "https://www.programcreek.com/python/example/126478/torch.nn.functional.interpolate"
      ]
    },
    {
      "cell_type": "code",
      "metadata": {
        "id": "0KJcdtsqZ69t"
      },
      "source": [
        "class ToTensor(object):\n",
        "    \"\"\"Convert ndarrays in sample to Tensors.\"\"\"\n",
        "\n",
        "    def __call__(self, sample):\n",
        "        image = sample['image']\n",
        "\n",
        "        # print(image.shape)\n",
        "        # swap color axis because\n",
        "        # numpy image: H x W x C\n",
        "        # torch image: C X H X W\n",
        "        image = image.transpose((2, 0, 1))\n",
        "        return {'image': torch.from_numpy(image)}\n",
        "\n",
        "class Resize(object):\n",
        "    def __init__(self, output_size):\n",
        "        assert isinstance(output_size, (int, tuple))\n",
        "        self.output_size = output_size\n",
        "\n",
        "    def __call__(self, sample):\n",
        "        image = sample['image']\n",
        "        image = image.unsqueeze(0)\n",
        "        return {'image': F.interpolate(image, size=(self.output_size,self.output_size)).squeeze()}\n"
      ],
      "execution_count": 31,
      "outputs": []
    },
    {
      "cell_type": "code",
      "metadata": {
        "id": "-abiwI0JWySF"
      },
      "source": [
        "# Converting data to torch.FloatTensor\n",
        "transform = ToTensor()\n",
        "composed = transforms.Compose([ToTensor(), Resize(128)])\n",
        "\n",
        "# Download the training and test datasets\n",
        "# train_data = datasets.CIFAR10(root='data', train=True, download=True, transform=transform)\n",
        "# test_data = datasets.CIFAR10(root='data', train=False, download=True, transform=transform)\n",
        "\n",
        "train_data = PNGDataset(root_dir='/content/png_files_processed', transform=composed)\n",
        "test_data = PNGDataset(root_dir='/content/png_files_test_processed', transform=composed)"
      ],
      "execution_count": 32,
      "outputs": []
    },
    {
      "cell_type": "code",
      "metadata": {
        "id": "PzQSbd-h3SlP",
        "colab": {
          "base_uri": "https://localhost:8080/"
        },
        "outputId": "8cbad72a-9f7d-423e-838e-8182d734ab86"
      },
      "source": [
        "for i in range(len(train_data)):\n",
        "    sample = train_data[i]\n",
        "    # path: /content/png_files_processed/obj1288.png\n",
        "    # print(type(sample['image']))\n",
        "    print(i, sample['image'].size())\n",
        "\n",
        "    if i == 4:\n",
        "        break"
      ],
      "execution_count": 33,
      "outputs": [
        {
          "output_type": "stream",
          "text": [
            "2817\n",
            "0 torch.Size([4, 128, 128])\n",
            "1 torch.Size([4, 128, 128])\n",
            "2 torch.Size([4, 128, 128])\n",
            "3 torch.Size([4, 128, 128])\n",
            "4 torch.Size([4, 128, 128])\n"
          ],
          "name": "stdout"
        }
      ]
    },
    {
      "cell_type": "code",
      "metadata": {
        "id": "Fg3pVbU-X453"
      },
      "source": [
        "#Prepare data loaders\n",
        "train_loader = torch.utils.data.DataLoader(train_data, batch_size=32, num_workers=0)\n",
        "test_loader = torch.utils.data.DataLoader(test_data, batch_size=32, num_workers=0)"
      ],
      "execution_count": 34,
      "outputs": []
    },
    {
      "cell_type": "code",
      "metadata": {
        "colab": {
          "base_uri": "https://localhost:8080/",
          "height": 503
        },
        "id": "7RZAdfcjj7zC",
        "outputId": "6662767e-3e2c-4b2e-96c6-c367d7f108cc"
      },
      "source": [
        "#Utility functions to un-normalize and display an image\n",
        "def imshow(img):\n",
        "    # img = img / 2 + 0.5          # don't need this line\n",
        "    plt.imshow(np.transpose(img, (1, 2, 0))) \n",
        "\n",
        "#Obtain one batch of training images\n",
        "dataiter = iter(train_loader)\n",
        "images = dataiter.next()\n",
        "images = np.array(images['image']) # convert images to numpy for display\n",
        "print(torch.min(torch.tensor(images)), torch.max(torch.tensor(images)))\n",
        "#Plot the images\n",
        "fig = plt.figure(figsize=(8, 8))\n",
        "# display 20 images\n",
        "for idx in np.arange(9):\n",
        "    ax = fig.add_subplot(3, 3, idx+1, xticks=[], yticks=[])\n",
        "    imshow(images[idx])"
      ],
      "execution_count": 35,
      "outputs": [
        {
          "output_type": "stream",
          "text": [
            "2817\n",
            "tensor(0, dtype=torch.uint8) tensor(255, dtype=torch.uint8)\n"
          ],
          "name": "stdout"
        },
        {
          "output_type": "display_data",
          "data": {
            "image/png": "[encoded data removed]",
            "text/plain": [
              "<Figure size 576x576 with 9 Axes>"
            ]
          },
          "metadata": {
            "tags": []
          }
        }
      ]
    },
    {
      "cell_type": "code",
      "metadata": {
        "id": "khtqcf1-kFSW"
      },
      "source": [
        "# #Define the Convolutional Autoencoder\n",
        "# class ConvAutoencoder(nn.Module):\n",
        "#     def __init__(self):\n",
        "#         super(ConvAutoencoder, self).__init__()\n",
        "       \n",
        "#         #Encoder\n",
        "#         self.conv1 = nn.Conv2d(3, 16, 3, padding=1)  \n",
        "#         self.conv2 = nn.Conv2d(16, 4, 3, padding=1)\n",
        "#         self.pool = nn.MaxPool2d(2, 2)\n",
        "       \n",
        "#         #Decoder\n",
        "#         self.t_conv1 = nn.ConvTranspose2d(4, 16, 2, stride=2)\n",
        "#         self.t_conv2 = nn.ConvTranspose2d(16, 3, 2, stride=2)\n",
        "\n",
        "\n",
        "#     def forward(self, x):\n",
        "#         x = F.relu(self.conv1(x))\n",
        "#         x = self.pool(x)\n",
        "#         x = F.relu(self.conv2(x))\n",
        "#         x = self.pool(x)\n",
        "#         x = F.relu(self.t_conv1(x))\n",
        "#         x = F.sigmoid(self.t_conv2(x))\n",
        "              \n",
        "#         return x\n",
        "\n",
        "\n",
        "# #Instantiate the model\n",
        "# model = ConvAutoencoder()\n",
        "# print(model)"
      ],
      "execution_count": null,
      "outputs": []
    },
    {
      "cell_type": "markdown",
      "metadata": {
        "id": "kYMcIHcfh9gn"
      },
      "source": [
        "https://github.com/python-engineer/pytorch-examples/blob/master/Autoencoder.ipynb"
      ]
    },
    {
      "cell_type": "code",
      "metadata": {
        "colab": {
          "base_uri": "https://localhost:8080/"
        },
        "id": "jQ3f0NFSqi4S",
        "outputId": "15d2d788-df4d-484a-ea8f-9f5f1b1f9aff"
      },
      "source": [
        "class Autoencoder(nn.Module):\n",
        "    def __init__(self):\n",
        "        super().__init__()        \n",
        "        # N, 4, 128, 128\n",
        "        self.encoder = nn.Sequential(\n",
        "            nn.Conv2d(4, 16, 3, stride=2, padding=1), # -> N, 16, 64, 64\n",
        "            nn.ReLU(),\n",
        "            nn.Conv2d(16, 32, 3, stride=2, padding=1), # -> N, 32, 32, 32\n",
        "            nn.ReLU(),\n",
        "            nn.Conv2d(32, 64, 32) # -> N, 64, 1, 1\n",
        "        )\n",
        "        \n",
        "        # N , 64, 1, 1\n",
        "        self.decoder = nn.Sequential(\n",
        "            nn.ConvTranspose2d(64, 32, 32), # -> N, 32, 32, 32\n",
        "            nn.ReLU(),\n",
        "            nn.ConvTranspose2d(32, 16, 3, stride=2, padding=1, output_padding=1), # N, 16, 14, 14 (N,16,13,13 without output_padding)\n",
        "            nn.ReLU(),\n",
        "            nn.ConvTranspose2d(16, 4, 3, stride=2, padding=1, output_padding=1), # N, 4, 28, 28  (N,4,27,27)\n",
        "            nn.Sigmoid()\n",
        "        )\n",
        "\n",
        "    def forward(self, x):\n",
        "        encoded = self.encoder(x)\n",
        "        decoded = self.decoder(encoded)\n",
        "        return decoded\n",
        "    \n",
        " \n",
        "# Note: nn.MaxPool2d -> use nn.MaxUnpool2d, or use different kernelsize, stride etc to compensate...\n",
        "# Input [-1, +1] -> use nn.Tanh\n",
        "\n",
        "#Instantiate the model\n",
        "model = Autoencoder()\n",
        "print(model)"
      ],
      "execution_count": 36,
      "outputs": [
        {
          "output_type": "stream",
          "text": [
            "Autoencoder(\n",
            "  (encoder): Sequential(\n",
            "    (0): Conv2d(4, 16, kernel_size=(3, 3), stride=(2, 2), padding=(1, 1))\n",
            "    (1): ReLU()\n",
            "    (2): Conv2d(16, 32, kernel_size=(3, 3), stride=(2, 2), padding=(1, 1))\n",
            "    (3): ReLU()\n",
            "    (4): Conv2d(32, 64, kernel_size=(32, 32), stride=(1, 1))\n",
            "  )\n",
            "  (decoder): Sequential(\n",
            "    (0): ConvTranspose2d(64, 32, kernel_size=(32, 32), stride=(1, 1))\n",
            "    (1): ReLU()\n",
            "    (2): ConvTranspose2d(32, 16, kernel_size=(3, 3), stride=(2, 2), padding=(1, 1), output_padding=(1, 1))\n",
            "    (3): ReLU()\n",
            "    (4): ConvTranspose2d(16, 4, kernel_size=(3, 3), stride=(2, 2), padding=(1, 1), output_padding=(1, 1))\n",
            "    (5): Sigmoid()\n",
            "  )\n",
            ")\n"
          ],
          "name": "stdout"
        }
      ]
    },
    {
      "cell_type": "code",
      "metadata": {
        "id": "wlzrocFQkIg2"
      },
      "source": [
        "#Loss function\n",
        "criterion = nn.BCELoss()\n",
        "\n",
        "#Optimizer\n",
        "optimizer = torch.optim.Adam(model.parameters(), lr=0.001)"
      ],
      "execution_count": 37,
      "outputs": []
    },
    {
      "cell_type": "code",
      "metadata": {
        "colab": {
          "base_uri": "https://localhost:8080/"
        },
        "id": "9u_6-bBVkK0m",
        "outputId": "ca8cc1e5-e86b-493f-b3dc-35ea90de4b1d"
      },
      "source": [
        "def get_device():\n",
        "    if torch.cuda.is_available():\n",
        "        device = 'cuda:0'\n",
        "    else:\n",
        "        device = 'cpu'\n",
        "    return device\n",
        "\n",
        "device = get_device()\n",
        "print(device)\n",
        "model.to(device)"
      ],
      "execution_count": 38,
      "outputs": [
        {
          "output_type": "stream",
          "text": [
            "cpu\n"
          ],
          "name": "stdout"
        },
        {
          "output_type": "execute_result",
          "data": {
            "text/plain": [
              "Autoencoder(\n",
              "  (encoder): Sequential(\n",
              "    (0): Conv2d(4, 16, kernel_size=(3, 3), stride=(2, 2), padding=(1, 1))\n",
              "    (1): ReLU()\n",
              "    (2): Conv2d(16, 32, kernel_size=(3, 3), stride=(2, 2), padding=(1, 1))\n",
              "    (3): ReLU()\n",
              "    (4): Conv2d(32, 64, kernel_size=(32, 32), stride=(1, 1))\n",
              "  )\n",
              "  (decoder): Sequential(\n",
              "    (0): ConvTranspose2d(64, 32, kernel_size=(32, 32), stride=(1, 1))\n",
              "    (1): ReLU()\n",
              "    (2): ConvTranspose2d(32, 16, kernel_size=(3, 3), stride=(2, 2), padding=(1, 1), output_padding=(1, 1))\n",
              "    (3): ReLU()\n",
              "    (4): ConvTranspose2d(16, 4, kernel_size=(3, 3), stride=(2, 2), padding=(1, 1), output_padding=(1, 1))\n",
              "    (5): Sigmoid()\n",
              "  )\n",
              ")"
            ]
          },
          "metadata": {
            "tags": []
          },
          "execution_count": 38
        }
      ]
    },
    {
      "cell_type": "code",
      "metadata": {
        "id": "uHzx1Zh6kR2D"
      },
      "source": [
        "# #Epochs\n",
        "# n_epochs = 100\n",
        "# loss_values = []\n",
        "\n",
        "# for epoch in range(1, n_epochs+1):\n",
        "#     # monitor training loss\n",
        "#     train_loss = 0.0\n",
        "\n",
        "#     # Training\n",
        "#     for data in train_loader:\n",
        "#         images = data['image']/255\n",
        "#         images = images.to(device)\n",
        "#         optimizer.zero_grad()\n",
        "#         # divide by 255 to convert tensor type float to type byte\n",
        "#         outputs = model(images/255)\n",
        "#         loss = criterion(outputs, images)\n",
        "#         loss.backward()\n",
        "#         optimizer.step()\n",
        "#         train_loss += loss.item()*images.size(0)\n",
        "          \n",
        "#     train_loss = train_loss/len(train_loader)\n",
        "#     loss_values.append(train_loss)\n",
        "#     print('Epoch: {} \\tTraining Loss: {:.6f}'.format(epoch, train_loss))\n",
        "\n",
        "# plt.plot(loss_values)"
      ],
      "execution_count": null,
      "outputs": []
    },
    {
      "cell_type": "markdown",
      "metadata": {
        "id": "c9YZmRTp5wmp"
      },
      "source": [
        "https://discuss.pytorch.org/t/plotting-loss-curve/42632/3"
      ]
    },
    {
      "cell_type": "code",
      "metadata": {
        "id": "ooRLCstl58Pb"
      },
      "source": [
        "# REFERENCE FOR GRAPHING\n",
        "# for epoch in range(n_epochs):\n",
        "#     running_loss = 0.0\n",
        "#     for i, data in enumerate(train_loader, 0):\n",
        "#         running_loss =+ loss.item() * images.size(0)\n",
        "\n",
        "#     loss_values.append(running_loss / len(train_dataset))\n",
        "\n",
        "# plt.plot(loss_values)"
      ],
      "execution_count": null,
      "outputs": []
    },
    {
      "cell_type": "code",
      "metadata": {
        "id": "YK4_lQwm_c2U",
        "colab": {
          "base_uri": "https://localhost:8080/"
        },
        "outputId": "2952b8b4-d226-4577-fd22-f8dc8717fa60"
      },
      "source": [
        "# Point to training loop video\n",
        "num_epochs = 50\n",
        "outputs = []\n",
        "loss_values = []\n",
        "\n",
        "for epoch in range(num_epochs):\n",
        "    # monitor training loss\n",
        "    train_loss = 0.0\n",
        "\n",
        "    # Training\n",
        "    for img in train_loader:\n",
        "      recon = model(img['image']/255)\n",
        "      loss = criterion(recon, img['image']/255)\n",
        "      \n",
        "      optimizer.zero_grad()\n",
        "      loss.backward()\n",
        "      optimizer.step()\n",
        "      # print(type(loss.item()))\n",
        "      # print(type(images.size(0)))\n",
        "      train_loss += loss.item()*img['image'].size(0)\n",
        "\n",
        "    train_loss = train_loss/len(train_loader)\n",
        "    loss_values.append(train_loss)\n",
        "    print(f'Epoch:{epoch+1}, Loss:{loss.item():.4f}')\n",
        "    outputs.append((epoch, img, recon))\n",
        "\n",
        "plt.plot(loss_values)"
      ],
      "execution_count": null,
      "outputs": [
        {
          "output_type": "stream",
          "text": [
            "2817\n",
            "2817\n",
            "Epoch:1, Loss:0.1728\n",
            "2817\n",
            "2817\n",
            "Epoch:2, Loss:0.1572\n",
            "2817\n",
            "2817\n",
            "Epoch:3, Loss:0.1426\n",
            "2817\n",
            "2817\n",
            "Epoch:4, Loss:0.1254\n",
            "2817\n",
            "2817\n",
            "Epoch:5, Loss:0.1208\n",
            "2817\n",
            "2817\n",
            "Epoch:6, Loss:0.1141\n",
            "2817\n",
            "2817\n",
            "Epoch:7, Loss:0.1115\n",
            "2817\n",
            "2817\n",
            "Epoch:8, Loss:0.1107\n",
            "2817\n",
            "2817\n",
            "Epoch:9, Loss:0.1073\n",
            "2817\n",
            "2817\n",
            "Epoch:10, Loss:0.1061\n",
            "2817\n",
            "2817\n",
            "Epoch:11, Loss:0.1053\n",
            "2817\n",
            "2817\n",
            "Epoch:12, Loss:0.1049\n",
            "2817\n",
            "2817\n",
            "Epoch:13, Loss:0.1053\n",
            "2817\n",
            "2817\n",
            "Epoch:14, Loss:0.1046\n",
            "2817\n",
            "2817\n",
            "Epoch:15, Loss:0.1048\n",
            "2817\n",
            "2817\n",
            "Epoch:16, Loss:0.1046\n",
            "2817\n",
            "2817\n",
            "Epoch:17, Loss:0.1064\n",
            "2817\n",
            "2817\n",
            "Epoch:18, Loss:0.1051\n",
            "2817\n",
            "2817\n",
            "Epoch:19, Loss:0.1050\n",
            "2817\n",
            "2817\n",
            "Epoch:20, Loss:0.1057\n",
            "2817\n",
            "2817\n",
            "Epoch:21, Loss:0.1084\n",
            "2817\n",
            "2817\n",
            "Epoch:22, Loss:0.1053\n",
            "2817\n",
            "2817\n",
            "Epoch:23, Loss:0.1038\n",
            "2817\n"
          ],
          "name": "stdout"
        }
      ]
    },
    {
      "cell_type": "code",
      "metadata": {
        "id": "HgwDjHHb_81p"
      },
      "source": [
        "for k in range(0, num_epochs, 1):\n",
        "    imgs = outputs[k][1]['image'].cpu().detach().numpy()\n",
        "    recon = outputs[k][2].cpu().detach().numpy()\n",
        "    for i, item in enumerate(recon):\n",
        "        if i >= 1: break\n",
        "        # item: 4, 128, 128\n",
        "        print(item)"
      ],
      "execution_count": null,
      "outputs": []
    },
    {
      "cell_type": "code",
      "metadata": {
        "id": "ybYfcMDhfaby"
      },
      "source": [
        "for k in range(0, num_epochs, 4):\n",
        "    plt.figure(figsize=(9, 2))\n",
        "    plt.gray()\n",
        "    imgs = (outputs1[k][1]['image']/255).cpu().detach().numpy()\n",
        "    recon = outputs1[k][2].cpu().detach().numpy()\n",
        "    for i, item in enumerate(imgs):\n",
        "        if i >= 9: break\n",
        "        plt.subplot(2, 9, i+1)\n",
        "        # item: 1, 28, 28\n",
        "        plt.imshow(item[0])\n",
        "            \n",
        "    for i, item in enumerate(recon):\n",
        "        if i >= 9: break\n",
        "        plt.subplot(2, 9, 9+i+1) # row_length + i + 1\n",
        "        # item: 1, 28, 28\n",
        "        plt.imshow(item[0])"
      ],
      "execution_count": null,
      "outputs": []
    },
    {
      "cell_type": "code",
      "metadata": {
        "id": "SKY83mVFkTaq"
      },
      "source": [
        "#Batch of test images\n",
        "dataiter = iter(test_loader)\n",
        "images = dataiter.next()\n",
        "\n",
        "#Sample outputs\n",
        "images = images['image'].to(device)\n",
        "output = model(images/255)\n",
        "images = images.cpu().numpy()\n",
        "\n",
        "batch_size=32\n",
        "output = output.view(batch_size, 4, 128, 128)\n",
        "output = output.detach().numpy()\n",
        "#Original Images\n",
        "print(\"Original Images\")\n",
        "fig, axes = plt.subplots(nrows=1, ncols=5, sharex=True, sharey=True, figsize=(12,4))\n",
        "for idx in np.arange(5):\n",
        "    ax = fig.add_subplot(1, 5, idx+1, xticks=[], yticks=[])\n",
        "    imshow(images[idx])\n",
        "plt.show()\n",
        "\n",
        "#Reconstructed Images\n",
        "print('Reconstructed Images')\n",
        "fig, axes = plt.subplots(nrows=1, ncols=5, sharex=True, sharey=True, figsize=(12,4))\n",
        "for idx in np.arange(5):\n",
        "    ax = fig.add_subplot(1, 5, idx+1, xticks=[], yticks=[])\n",
        "    imshow(output[idx])\n",
        "plt.show() "
      ],
      "execution_count": null,
      "outputs": []
    }
  ]
}